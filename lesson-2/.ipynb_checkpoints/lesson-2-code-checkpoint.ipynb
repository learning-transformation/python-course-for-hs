{
 "cells": [
  {
   "cell_type": "markdown",
   "id": "ddc7d67b-ae56-41cf-9ce2-1ad582ce606d",
   "metadata": {},
   "source": [
    "# 高校情報Ⅰ：エンジニアと学ぶPythonプログラミング\n",
    "# 第2回 変数と入出力\n"
   ]
  },
  {
   "cell_type": "code",
   "execution_count": null,
   "id": "7ba22902-9ff4-487e-a2fe-c9b1a85a00bf",
   "metadata": {},
   "outputs": [],
   "source": []
  }
 ],
 "metadata": {
  "kernelspec": {
   "display_name": "Python 3 (ipykernel)",
   "language": "python",
   "name": "python3"
  },
  "language_info": {
   "codemirror_mode": {
    "name": "ipython",
    "version": 3
   },
   "file_extension": ".py",
   "mimetype": "text/x-python",
   "name": "python",
   "nbconvert_exporter": "python",
   "pygments_lexer": "ipython3",
   "version": "3.12.3"
  }
 },
 "nbformat": 4,
 "nbformat_minor": 5
}
